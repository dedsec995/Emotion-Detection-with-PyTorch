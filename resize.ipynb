{
 "cells": [
  {
   "cell_type": "code",
   "execution_count": 2,
   "metadata": {},
   "outputs": [],
   "source": [
    "import os\n",
    "import cv2\n",
    "\n",
    "def resize_images(input_dir, output_dir, target_size=(224, 224)):\n",
    "    # Create output directory if it doesn't exist\n",
    "    if not os.path.exists(output_dir):\n",
    "        os.makedirs(output_dir)\n",
    "\n",
    "    # Loop through each subfolder in the input directory\n",
    "    for subdir in os.listdir(input_dir):\n",
    "        sub_input_dir = os.path.join(input_dir, subdir)\n",
    "        sub_output_dir = os.path.join(output_dir, subdir)\n",
    "        if not os.path.exists(sub_output_dir):\n",
    "            os.makedirs(sub_output_dir)\n",
    "\n",
    "        # Loop through each image in the subfolder\n",
    "        for file_name in os.listdir(sub_input_dir):\n",
    "            input_path = os.path.join(sub_input_dir, file_name)\n",
    "            output_path = os.path.join(sub_output_dir, file_name)\n",
    "\n",
    "            # Read the image\n",
    "            image = cv2.imread(input_path, cv2.IMREAD_GRAYSCALE)\n",
    "\n",
    "            # Resize the image\n",
    "            resized_image = cv2.resize(image, target_size)\n",
    "\n",
    "            # Save the resized image\n",
    "            cv2.imwrite(output_path, resized_image)\n",
    "\n",
    "if __name__ == \"__main__\":\n",
    "    input_train_dir = \"FER-13/train\"\n",
    "    input_test_dir = \"FER-13/test\"\n",
    "    output_train_dir = \"FER-13/resized_train\"\n",
    "    output_test_dir = \"FER-13/resized_test\"\n",
    "\n",
    "    # Resize images in the train folder\n",
    "    resize_images(input_train_dir, output_train_dir)\n",
    "\n",
    "    # Resize images in the test folder\n",
    "    resize_images(input_test_dir, output_test_dir)\n"
   ]
  }
 ],
 "metadata": {
  "kernelspec": {
   "display_name": "env",
   "language": "python",
   "name": "python3"
  },
  "language_info": {
   "codemirror_mode": {
    "name": "ipython",
    "version": 3
   },
   "file_extension": ".py",
   "mimetype": "text/x-python",
   "name": "python",
   "nbconvert_exporter": "python",
   "pygments_lexer": "ipython3",
   "version": "3.12.1"
  }
 },
 "nbformat": 4,
 "nbformat_minor": 2
}
